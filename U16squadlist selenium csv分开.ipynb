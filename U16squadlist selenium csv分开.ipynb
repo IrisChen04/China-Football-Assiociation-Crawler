{
 "cells": [
  {
   "cell_type": "code",
   "execution_count": 2,
   "metadata": {},
   "outputs": [
    {
     "name": "stderr",
     "output_type": "stream",
     "text": [
      "c:\\Users\\33546\\anaconda3\\envs\\py37\\lib\\site-packages\\ipykernel_launcher.py:12: DeprecationWarning: executable_path has been deprecated, please pass in a Service object\n",
      "  if sys.path[0] == \"\":\n"
     ]
    }
   ],
   "source": [
    "import bs4\n",
    "from urllib.request import urlopen\n",
    "\n",
    "import pandas as pd \n",
    "\n",
    "from w3lib.html import remove_tags\n",
    "import requests\n",
    "from selenium import webdriver\n",
    "from selenium.webdriver.common.by import By\n",
    "import os\n",
    "import time\n",
    "driver = webdriver.Chrome('D:\\下载\\chromedriver_win32\\chromedriver.exe')\n",
    "\n",
    "driver.get(\"http://cfa.lysy360.com/league/11090/card#9\")"
   ]
  },
  {
   "cell_type": "code",
   "execution_count": 9,
   "metadata": {},
   "outputs": [],
   "source": [
    "xpath=\"\"\"//*[@id=\"view\"]/ul\"\"\""
   ]
  },
  {
   "cell_type": "code",
   "execution_count": 10,
   "metadata": {},
   "outputs": [],
   "source": [
    "teams=driver.find_elements(By.XPATH, xpath)"
   ]
  },
  {
   "cell_type": "code",
   "execution_count": 11,
   "metadata": {},
   "outputs": [],
   "source": [
    "page_html = driver.page_source\n",
    "pageSoup = bs4.BeautifulSoup(page_html, 'html.parser')\n",
    "containers = pageSoup.findAll('li',{'class','team'})"
   ]
  },
  {
   "cell_type": "code",
   "execution_count": 12,
   "metadata": {},
   "outputs": [
    {
     "name": "stdout",
     "output_type": "stream",
     "text": [
      "37\n"
     ]
    }
   ],
   "source": [
    "len_con=len(containers)\n",
    "print(len_con)"
   ]
  },
  {
   "cell_type": "code",
   "execution_count": 13,
   "metadata": {},
   "outputs": [
    {
     "name": "stdout",
     "output_type": "stream",
     "text": [
      "['12644', '12714', '5148', '12716', '12691', '12677', '5463', '8081', '7989', '8024', '12647', '12659', '5266', '8071', '8030', '7866', '12767', '5962', '8039', '7972', '10798', '12798', '12801', '11169', '12812', '8074', '12824', '12828', '8033', '6122', '12833', '8017', '7977', '12902', '471', '12917', '13041']\n"
     ]
    }
   ],
   "source": [
    "teamidlist=[]\n",
    "for i in range(1,len_con+1):\n",
    "    xpathteam=\"\"\"//*[@id=\"view\"]/ul/li[%s]\"\"\"%(i)\n",
    "    team=driver.find_element(By.XPATH, xpathteam)\n",
    "    teamid=team.get_attribute('data-team-id')\n",
    "    teamidlist.append(teamid)\n",
    "    \n",
    "print(teamidlist)"
   ]
  },
  {
   "cell_type": "code",
   "execution_count": 27,
   "metadata": {},
   "outputs": [
    {
     "name": "stdout",
     "output_type": "stream",
     "text": [
      "四川凉山西昌星河U16女子足球队\n",
      "河北青年女子足球俱乐部U16女子足球队\n",
      "大连市足球运动学校U16女子足球队\n",
      "石家庄市第四十四中学U16女子足球队\n",
      "新余足协U16女子足球队\n",
      "福建U16女子足球队\n",
      "呼和浩特市蒙古族学校U16女子足球队\n",
      "湖北体育职业学院U16女子足球队\n",
      "留坝县中学U16女子足球队\n",
      "上海U16女子足球队\n",
      "甘肃省体育运动学校U16女子足球队\n",
      "鄂尔多斯市足协U16女子足球队\n",
      "北京U16女子足球队\n",
      "深圳U16女子足球队\n",
      "辽宁足协沈阳第七十二中学U16女子足球队\n",
      "陕西U16女子足球队\n",
      "浙江杭州银行U16女子足球队\n",
      "上海市体育运动学校U16女子足球队\n",
      "杭州市体育事业发展中心杭州体育场U16\n",
      "大同鹊盛活性炭U16女子足球队\n",
      "成都棠湖中学U16女子足球队\n",
      "郑州市第二初级中学U16女子足球队\n",
      "恒大足球学校U16女子足球队\n",
      "山西体育职业学院U16女子足球队\n",
      "重庆市第十八中学U16女子足球队\n",
      "湖南U16女子足球队\n",
      "保定市金瑞青少年足球俱乐部U16女足\n",
      "广东足协U16女子足球一队\n",
      "广东足协U16女子足球二队\n",
      "琼中U16女子足球队\n",
      "山东精花女子足球俱乐部U16女子足球队\n",
      "江苏省U16女子足球队\n",
      "武汉U16女子足球队\n",
      "洛阳青训中心U16女子足球队\n",
      "四川足协U16女子足球队\n",
      "天津市体育运动学校U16女子足球队\n",
      "长沙市南雅中学U16女子足球队\n"
     ]
    }
   ],
   "source": [
    "\n",
    "playerlist=[]\n",
    "csvFile = open('U16联赛大名单.csv', 'wt+')\n",
    "for teamid in teamidlist:\n",
    "    html1 = urlopen('http://cfa.lysy360.com/competition/11090/card_team_info?team_id=%s'%(teamid))\n",
    "    bs = bs4.BeautifulSoup(html1, \"html.parser\")\n",
    "    table3=bs.find_all('div',{'class':{'user-name flex1','user-role','player-number'}})\n",
    "    \n",
    "    teamname=str(bs.find('title'))\n",
    "    teamname=remove_tags(teamname)\n",
    "    print(teamname)\n",
    "    \n",
    "    nameList=[]\n",
    "    for tab in table3:\n",
    "        tabt=str(tab)\n",
    "        tabt1=remove_tags(tabt)\n",
    "        nameList.append(tabt1)\n",
    "    n=0\n",
    "   \n",
    "    playlistnum={}\n",
    "    playerdic={}\n",
    "    while n< len(nameList): \n",
    "    \n",
    "        if n%2==0:\n",
    "            try:\n",
    "                a=+int(nameList[n+1])\n",
    "                playlistnum.update({nameList[n]:a})\n",
    "            except ValueError:\n",
    "                a= [teamname,nameList[n],nameList[n+1]]\n",
    "                playerlist.append(a)\n",
    "        \n",
    "        n+=1\n",
    "    ls = list(playlistnum.items ())\n",
    "    ls.sort(key=lambda x:x[1])\n",
    "\n",
    "    for player in ls: \n",
    "        h=[teamname,str(player[0]),str(player[1])]\n",
    "        playerlist.append(h)\n",
    "    \n",
    "    "
   ]
  },
  {
   "cell_type": "code",
   "execution_count": 28,
   "metadata": {},
   "outputs": [
    {
     "name": "stdout",
     "output_type": "stream",
     "text": [
      "                  所属球队   姓名 职位/号码\n",
      "0     四川凉山西昌星河U16女子足球队  李本强   主教练\n",
      "1     四川凉山西昌星河U16女子足球队   蒋宏  助理教练\n",
      "2     四川凉山西昌星河U16女子足球队   吕波    领队\n",
      "3     四川凉山西昌星河U16女子足球队   杨林    队务\n",
      "4     四川凉山西昌星河U16女子足球队   马倩    队医\n",
      "...                ...  ...   ...\n",
      "1077   长沙市南雅中学U16女子足球队  谢宏瑶    50\n",
      "1078   长沙市南雅中学U16女子足球队   雷馨    51\n",
      "1079   长沙市南雅中学U16女子足球队  丁一丹    52\n",
      "1080   长沙市南雅中学U16女子足球队  孙锦华    53\n",
      "1081   长沙市南雅中学U16女子足球队  白馨然    55\n",
      "\n",
      "[1082 rows x 3 columns]\n"
     ]
    }
   ],
   "source": [
    "column=['所属球队','姓名','职位/号码']\n",
    "CSVPLAYER=pd.DataFrame(columns=column,data=playerlist)\n",
    "print(CSVPLAYER)\n",
    "CSVPLAYER.to_csv('U16联赛大名单.csv',index=False,encoding='utf_8_sig')"
   ]
  }
 ],
 "metadata": {
  "kernelspec": {
   "display_name": "py37",
   "language": "python",
   "name": "python3"
  },
  "language_info": {
   "codemirror_mode": {
    "name": "ipython",
    "version": 3
   },
   "file_extension": ".py",
   "mimetype": "text/x-python",
   "name": "python",
   "nbconvert_exporter": "python",
   "pygments_lexer": "ipython3",
   "version": "3.7.16"
  },
  "orig_nbformat": 4
 },
 "nbformat": 4,
 "nbformat_minor": 2
}
